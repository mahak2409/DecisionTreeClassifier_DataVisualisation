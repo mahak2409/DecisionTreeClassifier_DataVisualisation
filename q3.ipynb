{
 "cells": [
  {
   "cell_type": "code",
   "execution_count": 2,
   "metadata": {
    "id": "Ug6HQZBVF1QL"
   },
   "outputs": [],
   "source": [
    "import numpy as np\n",
    "import pandas as pd\n",
    "import matplotlib.pyplot as plt\n",
    "from sklearn.tree import DecisionTreeClassifier\n",
    "import math"
   ]
  },
  {
   "cell_type": "markdown",
   "metadata": {},
   "source": [
    "# Question 3 - Part 1"
   ]
  },
  {
   "cell_type": "code",
   "execution_count": 3,
   "metadata": {
    "colab": {
     "base_uri": "https://localhost:8080/",
     "height": 419
    },
    "executionInfo": {
     "elapsed": 981,
     "status": "ok",
     "timestamp": 1632515926798,
     "user": {
      "displayName": "Mahak Sharma",
      "photoUrl": "https://lh3.googleusercontent.com/a/default-user=s64",
      "userId": "13431687992914305435"
     },
     "user_tz": -330
    },
    "id": "iVKp-PCXF_at",
    "outputId": "694f6bdd-fca3-4aaa-b669-a121d41412e8"
   },
   "outputs": [
    {
     "data": {
      "text/html": [
       "<div>\n",
       "<style scoped>\n",
       "    .dataframe tbody tr th:only-of-type {\n",
       "        vertical-align: middle;\n",
       "    }\n",
       "\n",
       "    .dataframe tbody tr th {\n",
       "        vertical-align: top;\n",
       "    }\n",
       "\n",
       "    .dataframe thead th {\n",
       "        text-align: right;\n",
       "    }\n",
       "</style>\n",
       "<table border=\"1\" class=\"dataframe\">\n",
       "  <thead>\n",
       "    <tr style=\"text-align: right;\">\n",
       "      <th></th>\n",
       "      <th>No</th>\n",
       "      <th>year</th>\n",
       "      <th>month</th>\n",
       "      <th>day</th>\n",
       "      <th>hour</th>\n",
       "      <th>A</th>\n",
       "      <th>B</th>\n",
       "      <th>C</th>\n",
       "      <th>D</th>\n",
       "      <th>E</th>\n",
       "      <th>F</th>\n",
       "      <th>G</th>\n",
       "      <th>H</th>\n",
       "    </tr>\n",
       "  </thead>\n",
       "  <tbody>\n",
       "    <tr>\n",
       "      <th>0</th>\n",
       "      <td>1</td>\n",
       "      <td>2010</td>\n",
       "      <td>1</td>\n",
       "      <td>1</td>\n",
       "      <td>0</td>\n",
       "      <td>NaN</td>\n",
       "      <td>-21</td>\n",
       "      <td>-11.0</td>\n",
       "      <td>1021.0</td>\n",
       "      <td>NW</td>\n",
       "      <td>1.79</td>\n",
       "      <td>0</td>\n",
       "      <td>0</td>\n",
       "    </tr>\n",
       "    <tr>\n",
       "      <th>1</th>\n",
       "      <td>2</td>\n",
       "      <td>2010</td>\n",
       "      <td>1</td>\n",
       "      <td>1</td>\n",
       "      <td>1</td>\n",
       "      <td>NaN</td>\n",
       "      <td>-21</td>\n",
       "      <td>-12.0</td>\n",
       "      <td>1020.0</td>\n",
       "      <td>NW</td>\n",
       "      <td>4.92</td>\n",
       "      <td>0</td>\n",
       "      <td>0</td>\n",
       "    </tr>\n",
       "    <tr>\n",
       "      <th>2</th>\n",
       "      <td>3</td>\n",
       "      <td>2010</td>\n",
       "      <td>1</td>\n",
       "      <td>1</td>\n",
       "      <td>2</td>\n",
       "      <td>NaN</td>\n",
       "      <td>-21</td>\n",
       "      <td>-11.0</td>\n",
       "      <td>1019.0</td>\n",
       "      <td>NW</td>\n",
       "      <td>6.71</td>\n",
       "      <td>0</td>\n",
       "      <td>0</td>\n",
       "    </tr>\n",
       "    <tr>\n",
       "      <th>3</th>\n",
       "      <td>4</td>\n",
       "      <td>2010</td>\n",
       "      <td>1</td>\n",
       "      <td>1</td>\n",
       "      <td>3</td>\n",
       "      <td>NaN</td>\n",
       "      <td>-21</td>\n",
       "      <td>-14.0</td>\n",
       "      <td>1019.0</td>\n",
       "      <td>NW</td>\n",
       "      <td>9.84</td>\n",
       "      <td>0</td>\n",
       "      <td>0</td>\n",
       "    </tr>\n",
       "    <tr>\n",
       "      <th>4</th>\n",
       "      <td>5</td>\n",
       "      <td>2010</td>\n",
       "      <td>1</td>\n",
       "      <td>1</td>\n",
       "      <td>4</td>\n",
       "      <td>NaN</td>\n",
       "      <td>-20</td>\n",
       "      <td>-12.0</td>\n",
       "      <td>1018.0</td>\n",
       "      <td>NW</td>\n",
       "      <td>12.97</td>\n",
       "      <td>0</td>\n",
       "      <td>0</td>\n",
       "    </tr>\n",
       "    <tr>\n",
       "      <th>...</th>\n",
       "      <td>...</td>\n",
       "      <td>...</td>\n",
       "      <td>...</td>\n",
       "      <td>...</td>\n",
       "      <td>...</td>\n",
       "      <td>...</td>\n",
       "      <td>...</td>\n",
       "      <td>...</td>\n",
       "      <td>...</td>\n",
       "      <td>...</td>\n",
       "      <td>...</td>\n",
       "      <td>...</td>\n",
       "      <td>...</td>\n",
       "    </tr>\n",
       "    <tr>\n",
       "      <th>43819</th>\n",
       "      <td>43820</td>\n",
       "      <td>2014</td>\n",
       "      <td>12</td>\n",
       "      <td>31</td>\n",
       "      <td>19</td>\n",
       "      <td>8.0</td>\n",
       "      <td>-23</td>\n",
       "      <td>-2.0</td>\n",
       "      <td>1034.0</td>\n",
       "      <td>NW</td>\n",
       "      <td>231.97</td>\n",
       "      <td>0</td>\n",
       "      <td>0</td>\n",
       "    </tr>\n",
       "    <tr>\n",
       "      <th>43820</th>\n",
       "      <td>43821</td>\n",
       "      <td>2014</td>\n",
       "      <td>12</td>\n",
       "      <td>31</td>\n",
       "      <td>20</td>\n",
       "      <td>10.0</td>\n",
       "      <td>-22</td>\n",
       "      <td>-3.0</td>\n",
       "      <td>1034.0</td>\n",
       "      <td>NW</td>\n",
       "      <td>237.78</td>\n",
       "      <td>0</td>\n",
       "      <td>0</td>\n",
       "    </tr>\n",
       "    <tr>\n",
       "      <th>43821</th>\n",
       "      <td>43822</td>\n",
       "      <td>2014</td>\n",
       "      <td>12</td>\n",
       "      <td>31</td>\n",
       "      <td>21</td>\n",
       "      <td>10.0</td>\n",
       "      <td>-22</td>\n",
       "      <td>-3.0</td>\n",
       "      <td>1034.0</td>\n",
       "      <td>NW</td>\n",
       "      <td>242.70</td>\n",
       "      <td>0</td>\n",
       "      <td>0</td>\n",
       "    </tr>\n",
       "    <tr>\n",
       "      <th>43822</th>\n",
       "      <td>43823</td>\n",
       "      <td>2014</td>\n",
       "      <td>12</td>\n",
       "      <td>31</td>\n",
       "      <td>22</td>\n",
       "      <td>8.0</td>\n",
       "      <td>-22</td>\n",
       "      <td>-4.0</td>\n",
       "      <td>1034.0</td>\n",
       "      <td>NW</td>\n",
       "      <td>246.72</td>\n",
       "      <td>0</td>\n",
       "      <td>0</td>\n",
       "    </tr>\n",
       "    <tr>\n",
       "      <th>43823</th>\n",
       "      <td>43824</td>\n",
       "      <td>2014</td>\n",
       "      <td>12</td>\n",
       "      <td>31</td>\n",
       "      <td>23</td>\n",
       "      <td>12.0</td>\n",
       "      <td>-21</td>\n",
       "      <td>-3.0</td>\n",
       "      <td>1034.0</td>\n",
       "      <td>NW</td>\n",
       "      <td>249.85</td>\n",
       "      <td>0</td>\n",
       "      <td>0</td>\n",
       "    </tr>\n",
       "  </tbody>\n",
       "</table>\n",
       "<p>43824 rows × 13 columns</p>\n",
       "</div>"
      ],
      "text/plain": [
       "          No  year  month  day  hour     A   B     C       D   E       F  G  H\n",
       "0          1  2010      1    1     0   NaN -21 -11.0  1021.0  NW    1.79  0  0\n",
       "1          2  2010      1    1     1   NaN -21 -12.0  1020.0  NW    4.92  0  0\n",
       "2          3  2010      1    1     2   NaN -21 -11.0  1019.0  NW    6.71  0  0\n",
       "3          4  2010      1    1     3   NaN -21 -14.0  1019.0  NW    9.84  0  0\n",
       "4          5  2010      1    1     4   NaN -20 -12.0  1018.0  NW   12.97  0  0\n",
       "...      ...   ...    ...  ...   ...   ...  ..   ...     ...  ..     ... .. ..\n",
       "43819  43820  2014     12   31    19   8.0 -23  -2.0  1034.0  NW  231.97  0  0\n",
       "43820  43821  2014     12   31    20  10.0 -22  -3.0  1034.0  NW  237.78  0  0\n",
       "43821  43822  2014     12   31    21  10.0 -22  -3.0  1034.0  NW  242.70  0  0\n",
       "43822  43823  2014     12   31    22   8.0 -22  -4.0  1034.0  NW  246.72  0  0\n",
       "43823  43824  2014     12   31    23  12.0 -21  -3.0  1034.0  NW  249.85  0  0\n",
       "\n",
       "[43824 rows x 13 columns]"
      ]
     },
     "execution_count": 3,
     "metadata": {},
     "output_type": "execute_result"
    }
   ],
   "source": [
    "df = pd.read_csv(\"data/dataset_3.csv\")\n",
    "df"
   ]
  },
  {
   "cell_type": "code",
   "execution_count": 4,
   "metadata": {
    "colab": {
     "base_uri": "https://localhost:8080/",
     "height": 419
    },
    "executionInfo": {
     "elapsed": 41,
     "status": "ok",
     "timestamp": 1632515930502,
     "user": {
      "displayName": "Mahak Sharma",
      "photoUrl": "https://lh3.googleusercontent.com/a/default-user=s64",
      "userId": "13431687992914305435"
     },
     "user_tz": -330
    },
    "id": "SjsrT87VHBqT",
    "outputId": "a86455c0-75ea-4f80-951a-6d17368de0c4"
   },
   "outputs": [
    {
     "data": {
      "text/html": [
       "<div>\n",
       "<style scoped>\n",
       "    .dataframe tbody tr th:only-of-type {\n",
       "        vertical-align: middle;\n",
       "    }\n",
       "\n",
       "    .dataframe tbody tr th {\n",
       "        vertical-align: top;\n",
       "    }\n",
       "\n",
       "    .dataframe thead th {\n",
       "        text-align: right;\n",
       "    }\n",
       "</style>\n",
       "<table border=\"1\" class=\"dataframe\">\n",
       "  <thead>\n",
       "    <tr style=\"text-align: right;\">\n",
       "      <th></th>\n",
       "      <th>No</th>\n",
       "      <th>year</th>\n",
       "      <th>month</th>\n",
       "      <th>day</th>\n",
       "      <th>hour</th>\n",
       "      <th>A</th>\n",
       "      <th>B</th>\n",
       "      <th>C</th>\n",
       "      <th>D</th>\n",
       "      <th>E</th>\n",
       "      <th>F</th>\n",
       "      <th>G</th>\n",
       "      <th>H</th>\n",
       "    </tr>\n",
       "  </thead>\n",
       "  <tbody>\n",
       "    <tr>\n",
       "      <th>0</th>\n",
       "      <td>1</td>\n",
       "      <td>2010</td>\n",
       "      <td>1</td>\n",
       "      <td>1</td>\n",
       "      <td>0</td>\n",
       "      <td>98.613215</td>\n",
       "      <td>-21</td>\n",
       "      <td>-11.0</td>\n",
       "      <td>1021.0</td>\n",
       "      <td>NW</td>\n",
       "      <td>1.79</td>\n",
       "      <td>0</td>\n",
       "      <td>0</td>\n",
       "    </tr>\n",
       "    <tr>\n",
       "      <th>1</th>\n",
       "      <td>2</td>\n",
       "      <td>2010</td>\n",
       "      <td>1</td>\n",
       "      <td>1</td>\n",
       "      <td>1</td>\n",
       "      <td>98.613215</td>\n",
       "      <td>-21</td>\n",
       "      <td>-12.0</td>\n",
       "      <td>1020.0</td>\n",
       "      <td>NW</td>\n",
       "      <td>4.92</td>\n",
       "      <td>0</td>\n",
       "      <td>0</td>\n",
       "    </tr>\n",
       "    <tr>\n",
       "      <th>2</th>\n",
       "      <td>3</td>\n",
       "      <td>2010</td>\n",
       "      <td>1</td>\n",
       "      <td>1</td>\n",
       "      <td>2</td>\n",
       "      <td>98.613215</td>\n",
       "      <td>-21</td>\n",
       "      <td>-11.0</td>\n",
       "      <td>1019.0</td>\n",
       "      <td>NW</td>\n",
       "      <td>6.71</td>\n",
       "      <td>0</td>\n",
       "      <td>0</td>\n",
       "    </tr>\n",
       "    <tr>\n",
       "      <th>3</th>\n",
       "      <td>4</td>\n",
       "      <td>2010</td>\n",
       "      <td>1</td>\n",
       "      <td>1</td>\n",
       "      <td>3</td>\n",
       "      <td>98.613215</td>\n",
       "      <td>-21</td>\n",
       "      <td>-14.0</td>\n",
       "      <td>1019.0</td>\n",
       "      <td>NW</td>\n",
       "      <td>9.84</td>\n",
       "      <td>0</td>\n",
       "      <td>0</td>\n",
       "    </tr>\n",
       "    <tr>\n",
       "      <th>4</th>\n",
       "      <td>5</td>\n",
       "      <td>2010</td>\n",
       "      <td>1</td>\n",
       "      <td>1</td>\n",
       "      <td>4</td>\n",
       "      <td>98.613215</td>\n",
       "      <td>-20</td>\n",
       "      <td>-12.0</td>\n",
       "      <td>1018.0</td>\n",
       "      <td>NW</td>\n",
       "      <td>12.97</td>\n",
       "      <td>0</td>\n",
       "      <td>0</td>\n",
       "    </tr>\n",
       "    <tr>\n",
       "      <th>...</th>\n",
       "      <td>...</td>\n",
       "      <td>...</td>\n",
       "      <td>...</td>\n",
       "      <td>...</td>\n",
       "      <td>...</td>\n",
       "      <td>...</td>\n",
       "      <td>...</td>\n",
       "      <td>...</td>\n",
       "      <td>...</td>\n",
       "      <td>...</td>\n",
       "      <td>...</td>\n",
       "      <td>...</td>\n",
       "      <td>...</td>\n",
       "    </tr>\n",
       "    <tr>\n",
       "      <th>43819</th>\n",
       "      <td>43820</td>\n",
       "      <td>2014</td>\n",
       "      <td>12</td>\n",
       "      <td>31</td>\n",
       "      <td>19</td>\n",
       "      <td>8.000000</td>\n",
       "      <td>-23</td>\n",
       "      <td>-2.0</td>\n",
       "      <td>1034.0</td>\n",
       "      <td>NW</td>\n",
       "      <td>231.97</td>\n",
       "      <td>0</td>\n",
       "      <td>0</td>\n",
       "    </tr>\n",
       "    <tr>\n",
       "      <th>43820</th>\n",
       "      <td>43821</td>\n",
       "      <td>2014</td>\n",
       "      <td>12</td>\n",
       "      <td>31</td>\n",
       "      <td>20</td>\n",
       "      <td>10.000000</td>\n",
       "      <td>-22</td>\n",
       "      <td>-3.0</td>\n",
       "      <td>1034.0</td>\n",
       "      <td>NW</td>\n",
       "      <td>237.78</td>\n",
       "      <td>0</td>\n",
       "      <td>0</td>\n",
       "    </tr>\n",
       "    <tr>\n",
       "      <th>43821</th>\n",
       "      <td>43822</td>\n",
       "      <td>2014</td>\n",
       "      <td>12</td>\n",
       "      <td>31</td>\n",
       "      <td>21</td>\n",
       "      <td>10.000000</td>\n",
       "      <td>-22</td>\n",
       "      <td>-3.0</td>\n",
       "      <td>1034.0</td>\n",
       "      <td>NW</td>\n",
       "      <td>242.70</td>\n",
       "      <td>0</td>\n",
       "      <td>0</td>\n",
       "    </tr>\n",
       "    <tr>\n",
       "      <th>43822</th>\n",
       "      <td>43823</td>\n",
       "      <td>2014</td>\n",
       "      <td>12</td>\n",
       "      <td>31</td>\n",
       "      <td>22</td>\n",
       "      <td>8.000000</td>\n",
       "      <td>-22</td>\n",
       "      <td>-4.0</td>\n",
       "      <td>1034.0</td>\n",
       "      <td>NW</td>\n",
       "      <td>246.72</td>\n",
       "      <td>0</td>\n",
       "      <td>0</td>\n",
       "    </tr>\n",
       "    <tr>\n",
       "      <th>43823</th>\n",
       "      <td>43824</td>\n",
       "      <td>2014</td>\n",
       "      <td>12</td>\n",
       "      <td>31</td>\n",
       "      <td>23</td>\n",
       "      <td>12.000000</td>\n",
       "      <td>-21</td>\n",
       "      <td>-3.0</td>\n",
       "      <td>1034.0</td>\n",
       "      <td>NW</td>\n",
       "      <td>249.85</td>\n",
       "      <td>0</td>\n",
       "      <td>0</td>\n",
       "    </tr>\n",
       "  </tbody>\n",
       "</table>\n",
       "<p>43824 rows × 13 columns</p>\n",
       "</div>"
      ],
      "text/plain": [
       "          No  year  month  day  hour          A   B     C       D   E       F  \\\n",
       "0          1  2010      1    1     0  98.613215 -21 -11.0  1021.0  NW    1.79   \n",
       "1          2  2010      1    1     1  98.613215 -21 -12.0  1020.0  NW    4.92   \n",
       "2          3  2010      1    1     2  98.613215 -21 -11.0  1019.0  NW    6.71   \n",
       "3          4  2010      1    1     3  98.613215 -21 -14.0  1019.0  NW    9.84   \n",
       "4          5  2010      1    1     4  98.613215 -20 -12.0  1018.0  NW   12.97   \n",
       "...      ...   ...    ...  ...   ...        ...  ..   ...     ...  ..     ...   \n",
       "43819  43820  2014     12   31    19   8.000000 -23  -2.0  1034.0  NW  231.97   \n",
       "43820  43821  2014     12   31    20  10.000000 -22  -3.0  1034.0  NW  237.78   \n",
       "43821  43822  2014     12   31    21  10.000000 -22  -3.0  1034.0  NW  242.70   \n",
       "43822  43823  2014     12   31    22   8.000000 -22  -4.0  1034.0  NW  246.72   \n",
       "43823  43824  2014     12   31    23  12.000000 -21  -3.0  1034.0  NW  249.85   \n",
       "\n",
       "       G  H  \n",
       "0      0  0  \n",
       "1      0  0  \n",
       "2      0  0  \n",
       "3      0  0  \n",
       "4      0  0  \n",
       "...   .. ..  \n",
       "43819  0  0  \n",
       "43820  0  0  \n",
       "43821  0  0  \n",
       "43822  0  0  \n",
       "43823  0  0  \n",
       "\n",
       "[43824 rows x 13 columns]"
      ]
     },
     "execution_count": 4,
     "metadata": {},
     "output_type": "execute_result"
    }
   ],
   "source": [
    "df=df.fillna(df['A'].mean())\n",
    "df"
   ]
  },
  {
   "cell_type": "code",
   "execution_count": 5,
   "metadata": {
    "colab": {
     "base_uri": "https://localhost:8080/",
     "height": 419
    },
    "executionInfo": {
     "elapsed": 1028,
     "status": "ok",
     "timestamp": 1632515934726,
     "user": {
      "displayName": "Mahak Sharma",
      "photoUrl": "https://lh3.googleusercontent.com/a/default-user=s64",
      "userId": "13431687992914305435"
     },
     "user_tz": -330
    },
    "id": "Z8anpNHaXPEb",
    "outputId": "672eed72-ff67-4d69-8b3e-96003c11a8be"
   },
   "outputs": [
    {
     "data": {
      "text/html": [
       "<div>\n",
       "<style scoped>\n",
       "    .dataframe tbody tr th:only-of-type {\n",
       "        vertical-align: middle;\n",
       "    }\n",
       "\n",
       "    .dataframe tbody tr th {\n",
       "        vertical-align: top;\n",
       "    }\n",
       "\n",
       "    .dataframe thead th {\n",
       "        text-align: right;\n",
       "    }\n",
       "</style>\n",
       "<table border=\"1\" class=\"dataframe\">\n",
       "  <thead>\n",
       "    <tr style=\"text-align: right;\">\n",
       "      <th></th>\n",
       "      <th>No</th>\n",
       "      <th>year</th>\n",
       "      <th>month</th>\n",
       "      <th>day</th>\n",
       "      <th>hour</th>\n",
       "      <th>A</th>\n",
       "      <th>B</th>\n",
       "      <th>C</th>\n",
       "      <th>D</th>\n",
       "      <th>E</th>\n",
       "      <th>F</th>\n",
       "      <th>G</th>\n",
       "      <th>H</th>\n",
       "    </tr>\n",
       "  </thead>\n",
       "  <tbody>\n",
       "    <tr>\n",
       "      <th>0</th>\n",
       "      <td>7896</td>\n",
       "      <td>2010</td>\n",
       "      <td>11</td>\n",
       "      <td>25</td>\n",
       "      <td>23</td>\n",
       "      <td>168.0</td>\n",
       "      <td>-10</td>\n",
       "      <td>-3.0</td>\n",
       "      <td>1024.0</td>\n",
       "      <td>NW</td>\n",
       "      <td>1.79</td>\n",
       "      <td>0</td>\n",
       "      <td>0</td>\n",
       "    </tr>\n",
       "    <tr>\n",
       "      <th>1</th>\n",
       "      <td>26722</td>\n",
       "      <td>2013</td>\n",
       "      <td>1</td>\n",
       "      <td>18</td>\n",
       "      <td>9</td>\n",
       "      <td>82.0</td>\n",
       "      <td>-12</td>\n",
       "      <td>-8.0</td>\n",
       "      <td>1029.0</td>\n",
       "      <td>NW</td>\n",
       "      <td>6.26</td>\n",
       "      <td>0</td>\n",
       "      <td>0</td>\n",
       "    </tr>\n",
       "    <tr>\n",
       "      <th>2</th>\n",
       "      <td>26930</td>\n",
       "      <td>2013</td>\n",
       "      <td>1</td>\n",
       "      <td>27</td>\n",
       "      <td>1</td>\n",
       "      <td>307.0</td>\n",
       "      <td>-8</td>\n",
       "      <td>-5.0</td>\n",
       "      <td>1030.0</td>\n",
       "      <td>NE</td>\n",
       "      <td>0.89</td>\n",
       "      <td>0</td>\n",
       "      <td>0</td>\n",
       "    </tr>\n",
       "    <tr>\n",
       "      <th>3</th>\n",
       "      <td>42498</td>\n",
       "      <td>2014</td>\n",
       "      <td>11</td>\n",
       "      <td>6</td>\n",
       "      <td>17</td>\n",
       "      <td>6.0</td>\n",
       "      <td>-13</td>\n",
       "      <td>9.0</td>\n",
       "      <td>1030.0</td>\n",
       "      <td>NE</td>\n",
       "      <td>59.90</td>\n",
       "      <td>0</td>\n",
       "      <td>0</td>\n",
       "    </tr>\n",
       "    <tr>\n",
       "      <th>4</th>\n",
       "      <td>38405</td>\n",
       "      <td>2014</td>\n",
       "      <td>5</td>\n",
       "      <td>20</td>\n",
       "      <td>4</td>\n",
       "      <td>197.0</td>\n",
       "      <td>15</td>\n",
       "      <td>18.0</td>\n",
       "      <td>1003.0</td>\n",
       "      <td>NW</td>\n",
       "      <td>1.79</td>\n",
       "      <td>0</td>\n",
       "      <td>0</td>\n",
       "    </tr>\n",
       "    <tr>\n",
       "      <th>...</th>\n",
       "      <td>...</td>\n",
       "      <td>...</td>\n",
       "      <td>...</td>\n",
       "      <td>...</td>\n",
       "      <td>...</td>\n",
       "      <td>...</td>\n",
       "      <td>...</td>\n",
       "      <td>...</td>\n",
       "      <td>...</td>\n",
       "      <td>...</td>\n",
       "      <td>...</td>\n",
       "      <td>...</td>\n",
       "      <td>...</td>\n",
       "    </tr>\n",
       "    <tr>\n",
       "      <th>43819</th>\n",
       "      <td>30404</td>\n",
       "      <td>2013</td>\n",
       "      <td>6</td>\n",
       "      <td>20</td>\n",
       "      <td>19</td>\n",
       "      <td>77.0</td>\n",
       "      <td>17</td>\n",
       "      <td>27.0</td>\n",
       "      <td>1008.0</td>\n",
       "      <td>SE</td>\n",
       "      <td>14.76</td>\n",
       "      <td>0</td>\n",
       "      <td>0</td>\n",
       "    </tr>\n",
       "    <tr>\n",
       "      <th>43820</th>\n",
       "      <td>21244</td>\n",
       "      <td>2012</td>\n",
       "      <td>6</td>\n",
       "      <td>4</td>\n",
       "      <td>3</td>\n",
       "      <td>140.0</td>\n",
       "      <td>16</td>\n",
       "      <td>16.0</td>\n",
       "      <td>1005.0</td>\n",
       "      <td>cv</td>\n",
       "      <td>1.78</td>\n",
       "      <td>0</td>\n",
       "      <td>0</td>\n",
       "    </tr>\n",
       "    <tr>\n",
       "      <th>43821</th>\n",
       "      <td>42614</td>\n",
       "      <td>2014</td>\n",
       "      <td>11</td>\n",
       "      <td>11</td>\n",
       "      <td>13</td>\n",
       "      <td>17.0</td>\n",
       "      <td>-5</td>\n",
       "      <td>13.0</td>\n",
       "      <td>1017.0</td>\n",
       "      <td>NW</td>\n",
       "      <td>63.04</td>\n",
       "      <td>0</td>\n",
       "      <td>0</td>\n",
       "    </tr>\n",
       "    <tr>\n",
       "      <th>43822</th>\n",
       "      <td>43568</td>\n",
       "      <td>2014</td>\n",
       "      <td>12</td>\n",
       "      <td>21</td>\n",
       "      <td>7</td>\n",
       "      <td>9.0</td>\n",
       "      <td>-19</td>\n",
       "      <td>-5.0</td>\n",
       "      <td>1030.0</td>\n",
       "      <td>NW</td>\n",
       "      <td>369.22</td>\n",
       "      <td>0</td>\n",
       "      <td>0</td>\n",
       "    </tr>\n",
       "    <tr>\n",
       "      <th>43823</th>\n",
       "      <td>2733</td>\n",
       "      <td>2010</td>\n",
       "      <td>4</td>\n",
       "      <td>24</td>\n",
       "      <td>20</td>\n",
       "      <td>78.0</td>\n",
       "      <td>5</td>\n",
       "      <td>19.0</td>\n",
       "      <td>1013.0</td>\n",
       "      <td>SE</td>\n",
       "      <td>65.73</td>\n",
       "      <td>0</td>\n",
       "      <td>0</td>\n",
       "    </tr>\n",
       "  </tbody>\n",
       "</table>\n",
       "<p>43824 rows × 13 columns</p>\n",
       "</div>"
      ],
      "text/plain": [
       "          No  year  month  day  hour      A   B     C       D   E       F  G  \\\n",
       "0       7896  2010     11   25    23  168.0 -10  -3.0  1024.0  NW    1.79  0   \n",
       "1      26722  2013      1   18     9   82.0 -12  -8.0  1029.0  NW    6.26  0   \n",
       "2      26930  2013      1   27     1  307.0  -8  -5.0  1030.0  NE    0.89  0   \n",
       "3      42498  2014     11    6    17    6.0 -13   9.0  1030.0  NE   59.90  0   \n",
       "4      38405  2014      5   20     4  197.0  15  18.0  1003.0  NW    1.79  0   \n",
       "...      ...   ...    ...  ...   ...    ...  ..   ...     ...  ..     ... ..   \n",
       "43819  30404  2013      6   20    19   77.0  17  27.0  1008.0  SE   14.76  0   \n",
       "43820  21244  2012      6    4     3  140.0  16  16.0  1005.0  cv    1.78  0   \n",
       "43821  42614  2014     11   11    13   17.0  -5  13.0  1017.0  NW   63.04  0   \n",
       "43822  43568  2014     12   21     7    9.0 -19  -5.0  1030.0  NW  369.22  0   \n",
       "43823   2733  2010      4   24    20   78.0   5  19.0  1013.0  SE   65.73  0   \n",
       "\n",
       "       H  \n",
       "0      0  \n",
       "1      0  \n",
       "2      0  \n",
       "3      0  \n",
       "4      0  \n",
       "...   ..  \n",
       "43819  0  \n",
       "43820  0  \n",
       "43821  0  \n",
       "43822  0  \n",
       "43823  0  \n",
       "\n",
       "[43824 rows x 13 columns]"
      ]
     },
     "execution_count": 5,
     "metadata": {},
     "output_type": "execute_result"
    }
   ],
   "source": [
    "df = df.sample(frac=1,random_state=0).reset_index(drop=True)\n",
    "df"
   ]
  },
  {
   "cell_type": "code",
   "execution_count": 6,
   "metadata": {
    "colab": {
     "base_uri": "https://localhost:8080/"
    },
    "executionInfo": {
     "elapsed": 914,
     "status": "ok",
     "timestamp": 1632515940046,
     "user": {
      "displayName": "Mahak Sharma",
      "photoUrl": "https://lh3.googleusercontent.com/a/default-user=s64",
      "userId": "13431687992914305435"
     },
     "user_tz": -330
    },
    "id": "zDOfaLb-Jd_T",
    "outputId": "a889ab82-9188-404f-bfae-7db14e8d6eb5"
   },
   "outputs": [
    {
     "data": {
      "text/plain": [
       "Index(['year', 'day', 'hour', 'A', 'B', 'C', 'D', 'F', 'G', 'H', 'E_NE',\n",
       "       'E_NW', 'E_SE', 'E_cv'],\n",
       "      dtype='object')"
      ]
     },
     "execution_count": 6,
     "metadata": {},
     "output_type": "execute_result"
    }
   ],
   "source": [
    "target=df['month']\n",
    "features=df[['year','day','hour','A','B','C','D','E','F','G','H']]\n",
    "one_hot_features=pd.get_dummies(features)\n",
    "one_hot_features.columns"
   ]
  },
  {
   "cell_type": "code",
   "execution_count": 7,
   "metadata": {
    "id": "daF-ApaFGfLM"
   },
   "outputs": [],
   "source": [
    "def splitting(features,target,t):\n",
    "  splitting_index= int(t * features.shape[0])\n",
    "  train_X=features[0:splitting_index]\n",
    "  train_y=target[0:splitting_index]\n",
    "  test_X=features[splitting_index:]\n",
    "  test_y= target[splitting_index:]\n",
    "  return train_X,train_y,test_X,test_y"
   ]
  },
  {
   "cell_type": "code",
   "execution_count": 8,
   "metadata": {
    "id": "2YBhSPZ3KXJQ"
   },
   "outputs": [],
   "source": [
    "train_X,train_y,test_X,test_y=splitting(one_hot_features,target,0.75)"
   ]
  },
  {
   "cell_type": "code",
   "execution_count": 9,
   "metadata": {
    "colab": {
     "base_uri": "https://localhost:8080/"
    },
    "executionInfo": {
     "elapsed": 440,
     "status": "ok",
     "timestamp": 1632515950699,
     "user": {
      "displayName": "Mahak Sharma",
      "photoUrl": "https://lh3.googleusercontent.com/a/default-user=s64",
      "userId": "13431687992914305435"
     },
     "user_tz": -330
    },
    "id": "5ZL3JeoWKqHn",
    "outputId": "da4bbeb7-6c5b-4402-ace5-aad44b3a4a94"
   },
   "outputs": [
    {
     "data": {
      "text/plain": [
       "0.8242971887550201"
      ]
     },
     "execution_count": 9,
     "metadata": {},
     "output_type": "execute_result"
    }
   ],
   "source": [
    "tree_gini=DecisionTreeClassifier(random_state=0,criterion='gini')\n",
    "tree_gini.fit(train_X,train_y)\n",
    "tree_gini.score(test_X,test_y)"
   ]
  },
  {
   "cell_type": "code",
   "execution_count": null,
   "metadata": {
    "colab": {
     "base_uri": "https://localhost:8080/"
    },
    "executionInfo": {
     "elapsed": 1093,
     "status": "ok",
     "timestamp": 1632515955238,
     "user": {
      "displayName": "Mahak Sharma",
      "photoUrl": "https://lh3.googleusercontent.com/a/default-user=s64",
      "userId": "13431687992914305435"
     },
     "user_tz": -330
    },
    "id": "0SkpObloL2bo",
    "outputId": "0ef5a655-e2b4-4001-8644-1e7bd35f8466"
   },
   "outputs": [
    {
     "data": {
      "text/plain": [
       "0.83442862358525"
      ]
     },
     "execution_count": 206,
     "metadata": {},
     "output_type": "execute_result"
    }
   ],
   "source": [
    "tree_entropy=DecisionTreeClassifier(random_state=0,criterion='entropy')\n",
    "tree_entropy.fit(train_X,train_y)\n",
    "tree_entropy.score(test_X,test_y)"
   ]
  },
  {
   "cell_type": "markdown",
   "metadata": {},
   "source": [
    "# Question 3 - Part 2"
   ]
  },
  {
   "cell_type": "code",
   "execution_count": 10,
   "metadata": {
    "colab": {
     "base_uri": "https://localhost:8080/"
    },
    "executionInfo": {
     "elapsed": 910,
     "status": "ok",
     "timestamp": 1632516043061,
     "user": {
      "displayName": "Mahak Sharma",
      "photoUrl": "https://lh3.googleusercontent.com/a/default-user=s64",
      "userId": "13431687992914305435"
     },
     "user_tz": -330
    },
    "id": "yYhmq82QMLm_",
    "outputId": "b878ec75-bd50-4d07-9b53-b530853afd14"
   },
   "outputs": [
    {
     "name": "stdout",
     "output_type": "stream",
     "text": [
      "Depth\t2\tTraining Accuracy\t0.2745223317512474\ttest Accuracy\t0.279390288426433\n",
      "Depth\t4\tTraining Accuracy\t0.39682974321528536\ttest Accuracy\t0.4028842643300475\n",
      "Depth\t8\tTraining Accuracy\t0.5780090057198491\ttest Accuracy\t0.5594194961664841\n",
      "Depth\t10\tTraining Accuracy\t0.7019897772909821\ttest Accuracy\t0.6579956188389924\n",
      "Depth\t12\tTraining Accuracy\t0.8217719362297675\ttest Accuracy\t0.7383169039795546\n",
      "Depth\t30\tTraining Accuracy\t1.0\ttest Accuracy\t0.83442862358525\n"
     ]
    }
   ],
   "source": [
    "depth=[2, 4, 8, 10, 12, 30]\n",
    "test_ac=[]\n",
    "training_ac=[]\n",
    "for x in depth:\n",
    "  tree_entropy=DecisionTreeClassifier(random_state=0,criterion='entropy',max_depth=x)\n",
    "  tree_entropy.fit(train_X,train_y)\n",
    "  \n",
    "  test_ac.append(tree_entropy.score(test_X,test_y))\n",
    "  training_ac.append(tree_entropy.score(train_X,train_y))\n",
    "  print('Depth',x,'Training Accuracy',tree_entropy.score(train_X,train_y),'test Accuracy',tree_entropy.score(test_X,test_y),sep='\\t')\n",
    "\n"
   ]
  },
  {
   "cell_type": "code",
   "execution_count": 11,
   "metadata": {
    "colab": {
     "base_uri": "https://localhost:8080/",
     "height": 279
    },
    "executionInfo": {
     "elapsed": 1058,
     "status": "ok",
     "timestamp": 1632516060339,
     "user": {
      "displayName": "Mahak Sharma",
      "photoUrl": "https://lh3.googleusercontent.com/a/default-user=s64",
      "userId": "13431687992914305435"
     },
     "user_tz": -330
    },
    "id": "c5F4zwoUNK2e",
    "outputId": "bddf0192-aa5c-470b-d1f2-5bb916db92d3"
   },
   "outputs": [
    {
     "data": {
      "image/png": "[encoded data removed]",
      "text/plain": [
       "<Figure size 432x288 with 1 Axes>"
      ]
     },
     "metadata": {
      "needs_background": "light"
     },
     "output_type": "display_data"
    }
   ],
   "source": [
    "plt.plot(depth,test_ac,label='Test Accuracy',color='red')\n",
    "plt.plot(depth,training_ac,label='Training Accuracy',color='purple')\n",
    "plt.xlabel('Tree Maximum Depths')\n",
    "plt.ylabel('Accuracies')\n",
    "plt.legend()\n",
    "plt.show()"
   ]
  },
  {
   "cell_type": "markdown",
   "metadata": {},
   "source": [
    "# Question 3 - Part 3"
   ]
  },
  {
   "cell_type": "code",
   "execution_count": 12,
   "metadata": {
    "id": "s-INSkNINwJg"
   },
   "outputs": [],
   "source": [
    "tree_set=[]\n",
    "for x in range(0,150,1):\n",
    "  random_indices=np.random.choice(train_X.shape[0],int(train_X.shape[0]*0.4))\n",
    "  train_40x=train_X.to_numpy()[random_indices]\n",
    "  train_40y=train_y.to_numpy()[random_indices]\n",
    "  tree_entropy=DecisionTreeClassifier(random_state=0,criterion='entropy',max_depth=4)\n",
    "  tree_entropy.fit(train_40x,train_40y)\n",
    "  tree_set.append(tree_entropy)"
   ]
  },
  {
   "cell_type": "code",
   "execution_count": 13,
   "metadata": {
    "id": "K2ZZ-shfbmeM"
   },
   "outputs": [],
   "source": [
    "def predict(tree_set,test_X):\n",
    "  l=[]\n",
    "  for x in tree_set:\n",
    "    l.append(x.predict(test_X))\n",
    "\n",
    "  l=np.array(l)\n",
    "  final=[]\n",
    "  for x in range(0,test_X.shape[0],1):\n",
    "    final.append(np.argmax(np.bincount(l[:,x])))\n",
    "  final=np.array(final)\n",
    "  return final"
   ]
  },
  {
   "cell_type": "code",
   "execution_count": 14,
   "metadata": {
    "id": "LZZBlglFlNlN"
   },
   "outputs": [],
   "source": [
    "def accuracy(expected,predicted):\n",
    "  correct_predictions=expected == predicted\n",
    "  cp_sum=correct_predictions.sum()\n",
    "  accuracy= cp_sum/expected.shape[0]\n",
    "  return accuracy"
   ]
  },
  {
   "cell_type": "code",
   "execution_count": 15,
   "metadata": {
    "colab": {
     "base_uri": "https://localhost:8080/"
    },
    "executionInfo": {
     "elapsed": 669,
     "status": "ok",
     "timestamp": 1632516100241,
     "user": {
      "displayName": "Mahak Sharma",
      "photoUrl": "https://lh3.googleusercontent.com/a/default-user=s64",
      "userId": "13431687992914305435"
     },
     "user_tz": -330
    },
    "id": "WNNkJygeo40I",
    "outputId": "f8ea303b-89e6-4354-f4cb-8185facb2cf6"
   },
   "outputs": [
    {
     "data": {
      "text/plain": [
       "0.412833150784958"
      ]
     },
     "execution_count": 15,
     "metadata": {},
     "output_type": "execute_result"
    }
   ],
   "source": [
    "accuracy(test_y.to_numpy(),predict(tree_set,test_X))"
   ]
  },
  {
   "cell_type": "code",
   "execution_count": 16,
   "metadata": {
    "colab": {
     "background_save": true,
     "base_uri": "https://localhost:8080/"
    },
    "id": "6NK_E8sVKjw_",
    "outputId": "2d5e3789-ad73-4587-d9d8-628efc23a5f4"
   },
   "outputs": [
    {
     "name": "stdout",
     "output_type": "stream",
     "text": [
      "Num trees\t25\tdepth\t5\tTraining Accuracy\t0.46373372276986735\tTest Accuracy\t0.4589266155531216\n",
      "Num trees\t25\tdepth\t7\tTraining Accuracy\t0.5370573201898503\tTest Accuracy\t0.5234574662285506\n",
      "Num trees\t25\tdepth\t13\tTraining Accuracy\t0.7133686260192285\tTest Accuracy\t0.6531580868930267\n",
      "Num trees\t25\tdepth\t15\tTraining Accuracy\t0.8407873919922113\tTest Accuracy\t0.7475355969331873\n",
      "Num trees\t25\tdepth\t25\tTraining Accuracy\t0.9048618717293416\tTest Accuracy\t0.8042168674698795\n",
      "Num trees\t25\tdepth\t30\tTraining Accuracy\t0.9399111597906779\tTest Accuracy\t0.8295910916392845\n",
      "Num trees\t50\tdepth\t5\tTraining Accuracy\t0.8378361932578801\tTest Accuracy\t0.7389558232931727\n",
      "Num trees\t50\tdepth\t7\tTraining Accuracy\t0.7906170135085798\tTest Accuracy\t0.707101131799927\n",
      "Num trees\t50\tdepth\t13\tTraining Accuracy\t0.8495192892783254\tTest Accuracy\t0.759127418765973\n",
      "Num trees\t50\tdepth\t15\tTraining Accuracy\t0.8922964585615188\tTest Accuracy\t0.7925337714494342\n",
      "Num trees\t50\tdepth\t25\tTraining Accuracy\t0.9217780211756116\tTest Accuracy\t0.8191858342460752\n",
      "Num trees\t50\tdepth\t30\tTraining Accuracy\t0.9407630522088354\tTest Accuracy\t0.8348849945235487\n",
      "Num trees\t75\tdepth\t5\tTraining Accuracy\t0.8926007058537179\tTest Accuracy\t0.791894852135816\n",
      "Num trees\t75\tdepth\t7\tTraining Accuracy\t0.855056589996349\tTest Accuracy\t0.7596750638919314\n",
      "Num trees\t75\tdepth\t13\tTraining Accuracy\t0.8830169161494462\tTest Accuracy\t0.7820372398685652\n",
      "Num trees\t75\tdepth\t15\tTraining Accuracy\t0.9061092856273579\tTest Accuracy\t0.8025739320920043\n",
      "Num trees\t75\tdepth\t25\tTraining Accuracy\t0.9262808811001582\tTest Accuracy\t0.818912011683096\n",
      "Num trees\t75\tdepth\t30\tTraining Accuracy\t0.9402762565413167\tTest Accuracy\t0.8317816721431179\n",
      "Num trees\t100\tdepth\t5\tTraining Accuracy\t0.9094255811123281\tTest Accuracy\t0.803030303030303\n",
      "Num trees\t100\tdepth\t7\tTraining Accuracy\t0.8848119751734209\tTest Accuracy\t0.782767433369843\n",
      "Num trees\t100\tdepth\t13\tTraining Accuracy\t0.9002373128879153\tTest Accuracy\t0.7954545454545454\n",
      "Num trees\t100\tdepth\t15\tTraining Accuracy\t0.9161190215407082\tTest Accuracy\t0.8108798831690398\n",
      "Num trees\t100\tdepth\t25\tTraining Accuracy\t0.9306011926493855\tTest Accuracy\t0.8233844468784228\n",
      "Num trees\t100\tdepth\t30\tTraining Accuracy\t0.9413106973347937\tTest Accuracy\t0.833789704271632\n",
      "Num trees\t125\tdepth\t5\tTraining Accuracy\t0.9177011074601436\tTest Accuracy\t0.8110624315443593\n",
      "Num trees\t125\tdepth\t7\tTraining Accuracy\t0.8972556894243642\tTest Accuracy\t0.792898868200073\n",
      "Num trees\t125\tdepth\t13\tTraining Accuracy\t0.9081477424850919\tTest Accuracy\t0.804399415845199\n",
      "Num trees\t125\tdepth\t15\tTraining Accuracy\t0.9201959352561763\tTest Accuracy\t0.8158086893026653\n",
      "Num trees\t125\tdepth\t25\tTraining Accuracy\t0.931422660338323\tTest Accuracy\t0.8242059145673604\n",
      "Num trees\t125\tdepth\t30\tTraining Accuracy\t0.9409760253133748\tTest Accuracy\t0.8336071558963125\n",
      "Num trees\t150\tdepth\t5\tTraining Accuracy\t0.9221126931970306\tTest Accuracy\t0.8166301569916028\n",
      "Num trees\t150\tdepth\t7\tTraining Accuracy\t0.9063831081903371\tTest Accuracy\t0.8012960934647682\n"
     ]
    },
    {
     "ename": "KeyboardInterrupt",
     "evalue": "",
     "output_type": "error",
     "traceback": [
      "\u001b[1;31m---------------------------------------------------------------------------\u001b[0m",
      "\u001b[1;31mKeyboardInterrupt\u001b[0m                         Traceback (most recent call last)",
      "\u001b[1;32m<ipython-input-16-c3dffc6a8321>\u001b[0m in \u001b[0;36m<module>\u001b[1;34m\u001b[0m\n\u001b[0;32m     12\u001b[0m       \u001b[0mtrees\u001b[0m\u001b[1;33m.\u001b[0m\u001b[0mappend\u001b[0m\u001b[1;33m(\u001b[0m\u001b[0mtree_entropy\u001b[0m\u001b[1;33m)\u001b[0m\u001b[1;33m\u001b[0m\u001b[1;33m\u001b[0m\u001b[0m\n\u001b[0;32m     13\u001b[0m \u001b[1;33m\u001b[0m\u001b[0m\n\u001b[1;32m---> 14\u001b[1;33m     \u001b[0mtestacc\u001b[0m \u001b[1;33m=\u001b[0m \u001b[0maccuracy\u001b[0m\u001b[1;33m(\u001b[0m\u001b[0mtest_y\u001b[0m\u001b[1;33m.\u001b[0m\u001b[0mto_numpy\u001b[0m\u001b[1;33m(\u001b[0m\u001b[1;33m)\u001b[0m\u001b[1;33m,\u001b[0m\u001b[0mpredict\u001b[0m\u001b[1;33m(\u001b[0m\u001b[0mtrees\u001b[0m\u001b[1;33m,\u001b[0m\u001b[0mtest_X\u001b[0m\u001b[1;33m)\u001b[0m\u001b[1;33m)\u001b[0m\u001b[1;33m\u001b[0m\u001b[1;33m\u001b[0m\u001b[0m\n\u001b[0m\u001b[0;32m     15\u001b[0m     \u001b[0mtrainacc\u001b[0m \u001b[1;33m=\u001b[0m \u001b[0maccuracy\u001b[0m\u001b[1;33m(\u001b[0m\u001b[0mtrain_y\u001b[0m\u001b[1;33m.\u001b[0m\u001b[0mto_numpy\u001b[0m\u001b[1;33m(\u001b[0m\u001b[1;33m)\u001b[0m\u001b[1;33m,\u001b[0m\u001b[0mpredict\u001b[0m\u001b[1;33m(\u001b[0m\u001b[0mtrees\u001b[0m\u001b[1;33m,\u001b[0m\u001b[0mtrain_X\u001b[0m\u001b[1;33m)\u001b[0m\u001b[1;33m)\u001b[0m\u001b[1;33m\u001b[0m\u001b[1;33m\u001b[0m\u001b[0m\n\u001b[0;32m     16\u001b[0m     \u001b[0mprint\u001b[0m\u001b[1;33m(\u001b[0m\u001b[1;34m'Num trees'\u001b[0m\u001b[1;33m,\u001b[0m\u001b[0mt\u001b[0m\u001b[1;33m,\u001b[0m\u001b[1;34m'depth'\u001b[0m\u001b[1;33m,\u001b[0m\u001b[0md\u001b[0m\u001b[1;33m,\u001b[0m\u001b[1;34m'Training Accuracy'\u001b[0m\u001b[1;33m,\u001b[0m\u001b[0mtrainacc\u001b[0m\u001b[1;33m,\u001b[0m\u001b[1;34m'Test Accuracy'\u001b[0m\u001b[1;33m,\u001b[0m\u001b[0mtestacc\u001b[0m\u001b[1;33m,\u001b[0m\u001b[0msep\u001b[0m\u001b[1;33m=\u001b[0m\u001b[1;34m'\\t'\u001b[0m\u001b[1;33m)\u001b[0m\u001b[1;33m\u001b[0m\u001b[1;33m\u001b[0m\u001b[0m\n",
      "\u001b[1;32m<ipython-input-13-8d2344085028>\u001b[0m in \u001b[0;36mpredict\u001b[1;34m(tree_set, test_X)\u001b[0m\n\u001b[0;32m      2\u001b[0m   \u001b[0ml\u001b[0m\u001b[1;33m=\u001b[0m\u001b[1;33m[\u001b[0m\u001b[1;33m]\u001b[0m\u001b[1;33m\u001b[0m\u001b[1;33m\u001b[0m\u001b[0m\n\u001b[0;32m      3\u001b[0m   \u001b[1;32mfor\u001b[0m \u001b[0mx\u001b[0m \u001b[1;32min\u001b[0m \u001b[0mtree_set\u001b[0m\u001b[1;33m:\u001b[0m\u001b[1;33m\u001b[0m\u001b[1;33m\u001b[0m\u001b[0m\n\u001b[1;32m----> 4\u001b[1;33m     \u001b[0ml\u001b[0m\u001b[1;33m.\u001b[0m\u001b[0mappend\u001b[0m\u001b[1;33m(\u001b[0m\u001b[0mx\u001b[0m\u001b[1;33m.\u001b[0m\u001b[0mpredict\u001b[0m\u001b[1;33m(\u001b[0m\u001b[0mtest_X\u001b[0m\u001b[1;33m)\u001b[0m\u001b[1;33m)\u001b[0m\u001b[1;33m\u001b[0m\u001b[1;33m\u001b[0m\u001b[0m\n\u001b[0m\u001b[0;32m      5\u001b[0m \u001b[1;33m\u001b[0m\u001b[0m\n\u001b[0;32m      6\u001b[0m   \u001b[0ml\u001b[0m\u001b[1;33m=\u001b[0m\u001b[0mnp\u001b[0m\u001b[1;33m.\u001b[0m\u001b[0marray\u001b[0m\u001b[1;33m(\u001b[0m\u001b[0ml\u001b[0m\u001b[1;33m)\u001b[0m\u001b[1;33m\u001b[0m\u001b[1;33m\u001b[0m\u001b[0m\n",
      "\u001b[1;32m~\\Miniconda3\\lib\\site-packages\\sklearn\\tree\\_classes.py\u001b[0m in \u001b[0;36mpredict\u001b[1;34m(self, X, check_input)\u001b[0m\n\u001b[0;32m    426\u001b[0m         \u001b[0mcheck_is_fitted\u001b[0m\u001b[1;33m(\u001b[0m\u001b[0mself\u001b[0m\u001b[1;33m)\u001b[0m\u001b[1;33m\u001b[0m\u001b[1;33m\u001b[0m\u001b[0m\n\u001b[0;32m    427\u001b[0m         \u001b[0mX\u001b[0m \u001b[1;33m=\u001b[0m \u001b[0mself\u001b[0m\u001b[1;33m.\u001b[0m\u001b[0m_validate_X_predict\u001b[0m\u001b[1;33m(\u001b[0m\u001b[0mX\u001b[0m\u001b[1;33m,\u001b[0m \u001b[0mcheck_input\u001b[0m\u001b[1;33m)\u001b[0m\u001b[1;33m\u001b[0m\u001b[1;33m\u001b[0m\u001b[0m\n\u001b[1;32m--> 428\u001b[1;33m         \u001b[0mproba\u001b[0m \u001b[1;33m=\u001b[0m \u001b[0mself\u001b[0m\u001b[1;33m.\u001b[0m\u001b[0mtree_\u001b[0m\u001b[1;33m.\u001b[0m\u001b[0mpredict\u001b[0m\u001b[1;33m(\u001b[0m\u001b[0mX\u001b[0m\u001b[1;33m)\u001b[0m\u001b[1;33m\u001b[0m\u001b[1;33m\u001b[0m\u001b[0m\n\u001b[0m\u001b[0;32m    429\u001b[0m         \u001b[0mn_samples\u001b[0m \u001b[1;33m=\u001b[0m \u001b[0mX\u001b[0m\u001b[1;33m.\u001b[0m\u001b[0mshape\u001b[0m\u001b[1;33m[\u001b[0m\u001b[1;36m0\u001b[0m\u001b[1;33m]\u001b[0m\u001b[1;33m\u001b[0m\u001b[1;33m\u001b[0m\u001b[0m\n\u001b[0;32m    430\u001b[0m \u001b[1;33m\u001b[0m\u001b[0m\n",
      "\u001b[1;31mKeyboardInterrupt\u001b[0m: "
     ]
    }
   ],
   "source": [
    "depth=[5, 7, 13, 15, 25,30]\n",
    "numtree=[25,50,75,100,125,150,175,200]\n",
    "trees=[]\n",
    "for t in numtree:\n",
    "  for d in depth:\n",
    "    for x in range(0,t,1):\n",
    "      random_indices=np.random.choice(train_X.shape[0],int(train_X.shape[0]*0.4))\n",
    "      train_40x=train_X.to_numpy()[random_indices]\n",
    "      train_40y=train_y.to_numpy()[random_indices]\n",
    "      tree_entropy=DecisionTreeClassifier(random_state=0,criterion='entropy',max_depth=d)\n",
    "      tree_entropy.fit(train_40x,train_40y)\n",
    "      trees.append(tree_entropy)\n",
    "\n",
    "    testacc = accuracy(test_y.to_numpy(),predict(trees,test_X))\n",
    "    trainacc = accuracy(train_y.to_numpy(),predict(trees,train_X))\n",
    "    print('Num trees',t,'depth',d,'Training Accuracy',trainacc,'Test Accuracy',testacc,sep='\\t')"
   ]
  }
 ],
 "metadata": {
  "colab": {
   "authorship_tag": "ABX9TyOpe8IW/Yptsz57HonUrCBc",
   "collapsed_sections": [],
   "name": "MLAssignment3.ipynb",
   "provenance": []
  },
  "interpreter": {
   "hash": "61720be370208e6d27a37de6482349aac1f493f38c0510f5723effc0f6ca4695"
  },
  "kernelspec": {
   "display_name": "Python 3",
   "language": "python",
   "name": "python3"
  },
  "language_info": {
   "codemirror_mode": {
    "name": "ipython",
    "version": 3
   },
   "file_extension": ".py",
   "mimetype": "text/x-python",
   "name": "python",
   "nbconvert_exporter": "python",
   "pygments_lexer": "ipython3",
   "version": "3.8.8"
  }
 },
 "nbformat": 4,
 "nbformat_minor": 2
}
